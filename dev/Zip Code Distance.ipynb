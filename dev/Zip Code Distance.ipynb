{
 "cells": [
  {
   "cell_type": "markdown",
   "metadata": {},
   "source": [
    "## Data Question\n",
    "How much of a difference does it make to use Zip distances over geocoded address (lat/lon) distances?"
   ]
  },
  {
   "cell_type": "code",
   "execution_count": 2,
   "metadata": {
    "collapsed": false
   },
   "outputs": [
    {
     "name": "stdout",
     "output_type": "stream",
     "text": [
      "Done here.\n"
     ]
    }
   ],
   "source": [
    "import numpy as np\n",
    "import pandas as pd\n",
    "import csv\n",
    "import urllib\n",
    "import matplotlib.pyplot as plt\n",
    "from geopy.distance import vincenty\n",
    "from collections import defaultdict\n",
    "\n",
    "# Get school locations from NYC OpenData API\n",
    "schfile  = \"https://data.cityofnewyork.us/resource/9pyc-nsiu.json?$limit=100000&$$app_token=qYFuRx0WY5iIcx3UKdNepMSjC&$order=ats_system_code\"\n",
    "schresp  = urllib.request.urlopen(schfile).read()\n",
    "sch_data = pd.read_json(schresp)\n",
    "\n",
    "# print(list(sch_data))\n",
    "\n",
    "# Only take the columns we need.\n",
    "sch = sch_data[['administrative_district_code', 'ats_system_code','beds_number','school_year','latitude','longitude','primary_address','zip']]\n",
    "\n",
    "# Do a little 'cleaning'\n",
    "sch = sch[sch['school_year'] == '2015-16']\n",
    "sch = sch[sch['latitude']    != None]\n",
    "sch = sch[sch['longitude']   != 0]\n",
    "\n",
    "# Also want CSD schools and not district 75 (special ed)\n",
    "sch = sch[sch['administrative_district_code'] < 40]\n",
    "\n",
    "print(\"Done here.\")"
   ]
  },
  {
   "cell_type": "code",
   "execution_count": 13,
   "metadata": {
    "collapsed": false
   },
   "outputs": [],
   "source": [
    "import folium\n",
    "import json"
   ]
  },
  {
   "cell_type": "code",
   "execution_count": 23,
   "metadata": {
    "collapsed": false
   },
   "outputs": [
    {
     "data": {
      "text/html": [
       "<div style=\"width:100%;\"><div style=\"position:relative;width:100%;height:0;padding-bottom:60%;\"><iframe src=\"data:text/html;base64,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\" style=\"position:absolute;width:100%;height:100%;left:0;top:0;\"></iframe></div></div>"
      ],
      "text/plain": [
       "<folium.folium.Map at 0x20ab5019e80>"
      ]
     },
     "execution_count": 23,
     "metadata": {},
     "output_type": "execute_result"
    }
   ],
   "source": [
    "# choropleth map\n",
    "# geo_str = json.dumps(json.load(open(geo_path, 'r')))\n",
    "# threshold_scale = np.linspace(df['2013'].min(),\n",
    "#                               df['2013'].max(), 6, dtype=int).tolist()\n",
    "\n",
    "mapa = folium.Map(location=[40.739666, -73.983314], width = '70', \n",
    "                  tiles=\"Mapbox Bright\",\n",
    "                  zoom_start=11)\n",
    "\n",
    "# mapa.geo_json(geo_str=geo_str,\n",
    "#               data=df,\n",
    "#               columns=['state', '2013'],\n",
    "#               fill_color='YlGn',\n",
    "#               key_on='feature.id',\n",
    "#               threshold_scale=threshold_scale)\n",
    "\n",
    "mapa\n",
    "\n",
    "# location map"
   ]
  },
  {
   "cell_type": "markdown",
   "metadata": {},
   "source": [
    "## Question 1: What is the longest distance between schools in the same zip code?"
   ]
  },
  {
   "cell_type": "code",
   "execution_count": 3,
   "metadata": {
    "collapsed": false,
    "scrolled": true
   },
   "outputs": [
    {
     "name": "stdout",
     "output_type": "stream",
     "text": [
      "[b'02M260' b'01M696' b'02M040' b'02M551' b'02M425' b'02M234' b'01M063'\n",
      " b'02M104' b'02M041' b'02M130' b'02M560' b'02M281' b'02M288' b'02M167'\n",
      " b'03M199' b'03M245' b'03M165' b'03M241' b'05M514' b'02M290' b'04M171'\n",
      " b'05M194' b'06M540' b'06M028' b'06M173' b'06M018' b'05M285' b'02M933'\n",
      " b'05M133' b'02M397' b'05M046' b'06M462' b'02M217' b'02M183' b'02M158'\n",
      " b'02M151' b'02M276' b'02M475' b'31R080' b'31R020' b'31R044' b'31R078'\n",
      " b'31R013' b'31R023' b'31R001' b'31R053' b'31R003' b'31R019' b'31R042'\n",
      " b'31R026' b'09X035' b'09X073' b'10X315' b'07X065' b'07X277' b'09X088'\n",
      " b'10X051' b'10X008' b'08X332' b'12X531' b'08X014' b'11X105' b'10X024'\n",
      " b'11X175' b'08X101' b'11X169' b'11X096' b'10X206' b'11X288' b'11X019'\n",
      " b'10X081' b'08X152' b'08X519' b'08X048' b'11X189' b'26Q191' b'26Q115'\n",
      " b'30Q112' b'30Q234' b'30Q445' b'30Q150' b'30Q084' b'30Q501' b'30Q078'\n",
      " b'13K307' b'17K091' b'20K223' b'13K054' b'16K627' b'32K151' b'19K583'\n",
      " b'20K102' b'22K197' b'14K474' b'23K401' b'16K455' b'21K212' b'15K051'\n",
      " b'13K256' b'13K430' b'22K555' b'20K176' b'20K220' b'32K106' b'14K110'\n",
      " b'21K540' b'21K188' b'17K524' b'22K139' b'20K229' b'22K277' b'21K199'\n",
      " b'15K032' b'15K169' b'16K035' b'22K312' b'22K495' b'18K635' b'32K168'\n",
      " b'13K011' b'19K364' b'25Q185' b'25Q120' b'25Q129' b'25Q209' b'25Q025'\n",
      " b'25Q169' b'26Q159' b'26Q221' b'26Q098' b'26Q162' b'26Q026' b'25Q670'\n",
      " b'25Q499' b'30Q092' b'30Q228' b'30Q002' b'30Q149' b'24Q293' b'28Q174'\n",
      " b'28Q167' b'24Q229' b'24Q058' b'24Q087' b'24Q305' b'29Q243' b'29Q036'\n",
      " b'29Q181' b'27Q232' b'28Q099' b'27Q650' b'27Q202' b'27Q254' b'28Q055'\n",
      " b'27Q108' b'27Q060' b'29Q270' b'29Q326' b'26Q133' b'26Q018' b'29Q033'\n",
      " b'29Q034' b'28Q680' b'29Q268' b'29Q052' b'28Q117' b'27Q123' b'27Q105'\n",
      " b'27Q042' b'27Q183' b'27Q114']\n",
      "[b'02M033' b'02M124' b'02M586' b'02M316' b'02M489' b'02M234' b'01M034'\n",
      " b'02M439' b'02M600' b'02M150' b'02M003' b'02M427' b'02M059' b'02M416'\n",
      " b'03M191' b'03M166' b'03M084' b'03M149' b'03M242' b'02M006' b'04M435'\n",
      " b'05M092' b'06M210' b'06M128' b'06M048' b'06M005' b'04M037' b'02M529'\n",
      " b'05M197' b'02M001' b'05M200' b'06M187' b'02M217' b'02M267' b'02M158'\n",
      " b'02M077' b'02M276' b'02M089' b'31R059' b'31R051' b'31R021' b'31R011'\n",
      " b'31R052' b'31R002' b'31R006' b'31R032' b'31R062' b'31R045' b'31R007'\n",
      " b'31R029' b'07X551' b'09X170' b'09X229' b'07X154' b'08X062' b'07X296'\n",
      " b'09X227' b'10X032' b'12X134' b'12X061' b'11X108' b'11X194' b'10X095'\n",
      " b'11X175' b'08X072' b'11X103' b'10X308' b'10X351' b'11X078' b'11X016'\n",
      " b'10X081' b'08X036' b'08X138' b'08X424' b'11X160' b'26Q191' b'26Q172'\n",
      " b'30Q291' b'30Q171' b'30Q070' b'24Q199' b'30Q122' b'30Q076' b'30Q078'\n",
      " b'15K029' b'22K109' b'20K682' b'13K067' b'14K018' b'19K325' b'19K224'\n",
      " b'20K104' b'22K198' b'14K084' b'17K398' b'17K221' b'20K445' b'15K154'\n",
      " b'17K138' b'13K282' b'22K134' b'15K529' b'20K485' b'13K044' b'14K031'\n",
      " b'21K238' b'21K100' b'17K061' b'17K002' b'20K259' b'21K153' b'22K217'\n",
      " b'15K698' b'15K172' b'23K646' b'22K222' b'21K410' b'18K566' b'32K162'\n",
      " b'17K316' b'19K346' b'25Q540' b'25Q022' b'25Q029' b'25Q079' b'25Q107'\n",
      " b'25Q169' b'26Q031' b'26Q067' b'26Q094' b'26Q213' b'25Q163' b'25Q154'\n",
      " b'25Q792' b'24Q550' b'30Q389' b'30Q002' b'30Q230' b'24Q585' b'28Q206'\n",
      " b'28Q220' b'30Q151' b'24Q153' b'24Q128' b'24Q113' b'29Q176' b'29Q134'\n",
      " b'29Q015' b'27Q146' b'28Q099' b'27Q064' b'27Q065' b'28Q054' b'27Q062'\n",
      " b'27Q124' b'27Q097' b'29Q195' b'26Q178' b'26Q186' b'29Q135' b'29Q109'\n",
      " b'29Q034' b'29Q095' b'28Q048' b'29Q327' b'28Q160' b'27Q045' b'27Q197'\n",
      " b'27Q333' b'27Q047' b'27Q262']\n",
      "[ 0.94758736  1.06880999  0.68897965  1.15605004  0.02184979  0.\n",
      "  0.59555247  0.71094885  0.72019269  0.66181961  0.24526625  0.4706013\n",
      "  1.40498024  0.25391799  0.44465562  0.63647687  0.91823034  0.39995411\n",
      "  1.04590913  0.4383329   0.98179657  0.49984957  0.8403885   0.67172723\n",
      "  0.62358373  1.10225903  0.89499109  0.80701383  0.27036962  0.4282667\n",
      "  0.44340311  0.56515281  0.          0.32165867  0.          0.51478521\n",
      "  0.          0.07007897  3.01888942  1.16813781  0.66881863  2.39448018\n",
      "  2.370723    1.81156154  0.73646125  1.06991894  1.46721106  1.02607395\n",
      "  2.20850488  4.18477146  1.07997277  1.0649286   1.00944962  0.67673088\n",
      "  0.71922377  1.33384305  1.49862831  1.42501341  0.97599721  1.40843851\n",
      "  1.94398923  1.59633576  1.25681886  0.          0.63650302  1.39857266\n",
      "  1.76917279  1.67480949  1.35338167  0.69650447  0.          1.65332384\n",
      "  1.47458613  0.14802182  1.33896558  0.          0.27883994  1.66891008\n",
      "  0.421849    0.35538695  0.44135251  0.82080246  0.92348233  0.\n",
      "  1.32528206  1.83563139  1.95220137  1.33522045  1.22219644  2.87386637\n",
      "  1.99660699  1.12073597  1.89864073  1.33489084  1.3047703   1.02493934\n",
      "  1.96786038  1.16210933  1.15357151  0.84896935  1.16770508  1.40595673\n",
      "  1.20205314  1.52438695  0.67869587  1.69642471  1.56153749  0.73996158\n",
      "  1.28333682  1.088715    1.73260507  1.1984219   1.22922914  0.82198545\n",
      "  1.69045704  1.66418691  1.83815954  2.01448684  0.82625134  0.80846308\n",
      "  0.05500103  0.81711196  1.45774687  0.84077187  1.13962144  0.84437182\n",
      "  0.          1.16212837  0.29385222  0.61436461  1.63788075  1.67382343\n",
      "  0.20892837  1.24442412  1.49870463  0.78990241  0.          0.98840327\n",
      "  1.30044108  0.92887685  1.93009852  1.71185259  1.11260025  0.78757513\n",
      "  2.81073239  1.30904935  1.22241998  2.1045041   0.89221323  0.\n",
      "  0.95566985  0.81786509  1.27806109  1.08198666  1.39080236  0.42538613\n",
      "  1.54797458  0.90128312  1.19632611  1.52938137  0.80932035  0.\n",
      "  1.27623132  1.1243906   2.17970346  1.67409792  0.60015535  1.95448842\n",
      "  0.42962019  1.43484445  1.63581265]\n"
     ]
    }
   ],
   "source": [
    "zips = np.unique(sch['zip'])\n",
    "\n",
    "# Find the max by BRUTE FORCE    \n",
    "school1   = np.array(range(len(zips)), dtype='a7')\n",
    "school2   = np.array(range(len(zips)), dtype='a7')\n",
    "maxdistance = np.empty(len(zips))\n",
    "\n",
    "for i in range(len(zips)):\n",
    "    # Schzip now has all of the schools in the zip code\n",
    "    schzip = sch[sch['zip'] == zips[i]]\n",
    "          \n",
    "    distance  = np.empty(len(schzip))\n",
    "    distancey = np.empty(len(schzip))\n",
    "    schooly   = np.array(range(len(schzip)), dtype='a7')\n",
    "    \n",
    "    # Loop through \n",
    "    for j in range(len(schzip)):\n",
    "        for k in range(len(schzip)):\n",
    "            # Calculate the distance between each \n",
    "            try:\n",
    "                distance[k] = vincenty(schzip[['latitude','longitude']].iloc[j],schzip[['latitude','longitude']].iloc[k]).miles\n",
    "            except UnboundLocalError:\n",
    "                distance[k] = 0\n",
    "        # Get the maximum distance over the second dimension ('school y')\n",
    "        distancey[j] = max(distance)\n",
    "        # Record the school name for the longest distance over y dimension.\n",
    "        schooly[j]   = schzip['ats_system_code'].iloc[np.argmax(distance)]\n",
    "    # Now get the maximum distance over the first dimension (over maxed second dimensions)\n",
    "    maxdistance[i] = max(distancey)\n",
    "    # This is the school of the y dimension\n",
    "    school1[i] = schzip['ats_system_code'].iloc[np.argmax(distancey)]\n",
    "    # This is the school of the x dimension.\n",
    "    school2[i] = schooly[np.argmax(distancey)]\n",
    "        \n",
    "print(school1)\n",
    "print(school2)\n",
    "print(maxdistance)\n",
    "\n",
    "\n",
    "# Assemble an array of [Zip, Distance, School1, School2]\n"
   ]
  },
  {
   "cell_type": "code",
   "execution_count": 12,
   "metadata": {
    "collapsed": false
   },
   "outputs": [
    {
     "name": "stdout",
     "output_type": "stream",
     "text": [
      "(171, 4)\n"
     ]
    }
   ],
   "source": []
  },
  {
   "cell_type": "markdown",
   "metadata": {},
   "source": [
    "## Question 2: What is the average distance between schools in the zip code?"
   ]
  },
  {
   "cell_type": "markdown",
   "metadata": {},
   "source": [
    "## Question X: What is the transit time for the longest "
   ]
  },
  {
   "cell_type": "code",
   "execution_count": null,
   "metadata": {
    "collapsed": true
   },
   "outputs": [],
   "source": []
  }
 ],
 "metadata": {
  "anaconda-cloud": {},
  "kernelspec": {
   "display_name": "Python [Root]",
   "language": "python",
   "name": "Python [Root]"
  },
  "language_info": {
   "codemirror_mode": {
    "name": "ipython",
    "version": 3
   },
   "file_extension": ".py",
   "mimetype": "text/x-python",
   "name": "python",
   "nbconvert_exporter": "python",
   "pygments_lexer": "ipython3",
   "version": "3.5.2"
  }
 },
 "nbformat": 4,
 "nbformat_minor": 1
}
